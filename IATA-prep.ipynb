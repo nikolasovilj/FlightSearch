{
 "cells": [
  {
   "cell_type": "code",
   "execution_count": null,
   "id": "a1c85bf4-3c4b-410b-9b65-b7c0dea4da01",
   "metadata": {},
   "outputs": [],
   "source": [
    "import pandas as pd\n",
    "import re\n",
    "import geocoder\n",
    "import pycountry"
   ]
  },
  {
   "cell_type": "code",
   "execution_count": null,
   "id": "e5295b4c-3c34-43b6-94d6-7892aac22d07",
   "metadata": {},
   "outputs": [],
   "source": [
    "df = pd.read_csv(\"IATA-original.csv\")"
   ]
  },
  {
   "cell_type": "code",
   "execution_count": null,
   "id": "e6c92a45-f552-4ddd-90e2-3ef5a1dd648e",
   "metadata": {},
   "outputs": [],
   "source": [
    "df"
   ]
  },
  {
   "cell_type": "code",
   "execution_count": null,
   "id": "6d407bff-9a6a-44a3-9a42-95fccd040064",
   "metadata": {},
   "outputs": [],
   "source": [
    "df.dropna(how='any', inplace=True)\n",
    "df.reset_index(inplace=True)\n",
    "del df['index']\n",
    "df"
   ]
  },
  {
   "cell_type": "code",
   "execution_count": null,
   "id": "cf61a18f-a687-4fd2-9d4e-7ff7577a6bcb",
   "metadata": {},
   "outputs": [],
   "source": [
    "df['IATA'] = df['IATA'].apply(lambda x: x.strip())"
   ]
  },
  {
   "cell_type": "code",
   "execution_count": null,
   "id": "499a8870-b5d3-4e33-85c5-76b37002aa90",
   "metadata": {},
   "outputs": [],
   "source": [
    "def clean_IATA(iata):\n",
    "    if len(iata) == 3:\n",
    "        return iata\n",
    "    print(iata)\n",
    "    for i in range(10):\n",
    "        if \"[\" + str(i) + \"]\" in iata:\n",
    "            return iata.replace(\"[\" + str(i) + \"]\", \"\")\n",
    "    return iata"
   ]
  },
  {
   "cell_type": "code",
   "execution_count": null,
   "id": "8c47454d-21d6-492c-91f2-48ac7c58ac81",
   "metadata": {},
   "outputs": [],
   "source": [
    "df['IATA'] = df['IATA'].apply(clean_IATA)\n",
    "df"
   ]
  },
  {
   "cell_type": "code",
   "execution_count": null,
   "id": "a555c34b-48d7-4fb4-a58a-404a92aae38a",
   "metadata": {},
   "outputs": [],
   "source": [
    "df['IATA-len'] = df['IATA'].apply(len)\n",
    "df"
   ]
  },
  {
   "cell_type": "code",
   "execution_count": null,
   "id": "3d878643-6d08-40ba-9803-0512b6c688b0",
   "metadata": {},
   "outputs": [],
   "source": [
    "df.loc[df['IATA-len'] != 3]"
   ]
  },
  {
   "cell_type": "code",
   "execution_count": null,
   "id": "437d97c0-e0fd-40e9-83aa-7e93b5e9662f",
   "metadata": {},
   "outputs": [],
   "source": [
    "Beijing_index = df.loc[df['IATA-len'] != 3].index\n",
    "Beijing_index"
   ]
  },
  {
   "cell_type": "code",
   "execution_count": null,
   "id": "39f68f2f-e243-4523-8346-8e5cd4ad32b9",
   "metadata": {},
   "outputs": [],
   "source": [
    "df.loc[Beijing_index, 'IATA'] = \"BJS\""
   ]
  },
  {
   "cell_type": "code",
   "execution_count": null,
   "id": "2b64f7fa-07c5-485d-b8e6-409f2a98b1f5",
   "metadata": {},
   "outputs": [],
   "source": [
    "df.loc[df['IATA-len'] != 3]"
   ]
  },
  {
   "cell_type": "code",
   "execution_count": null,
   "id": "a240bd72-3410-4441-8a9c-cf99bf5c406b",
   "metadata": {},
   "outputs": [],
   "source": [
    "del df['IATA-len']"
   ]
  },
  {
   "cell_type": "code",
   "execution_count": null,
   "id": "642eae9b-8b3d-4b87-8ae2-1cad0a3564b5",
   "metadata": {},
   "outputs": [],
   "source": [
    "df"
   ]
  },
  {
   "cell_type": "code",
   "execution_count": null,
   "id": "356138bb-6ab7-4464-bdf0-7cf12429f96b",
   "metadata": {},
   "outputs": [],
   "source": [
    "def clean_airport_name(airport):\n",
    "    for i in range(10):\n",
    "        if \"[\" + str(i) + \"]\" in airport:\n",
    "            return airport.replace(\"[\" + str(i) + \"]\", \"\")\n",
    "    return airport"
   ]
  },
  {
   "cell_type": "code",
   "execution_count": null,
   "id": "7fa4e440-2f89-4fd2-9e5e-09d0884e07cd",
   "metadata": {},
   "outputs": [],
   "source": [
    "df['Airport_name'] = df['Airport_name'].apply(clean_airport_name)\n",
    "df"
   ]
  },
  {
   "cell_type": "code",
   "execution_count": null,
   "id": "70f0d68d-662e-46f6-9540-c0334766c6d7",
   "metadata": {},
   "outputs": [],
   "source": [
    "def get_n_locations(location):\n",
    "    if len(location.split(\",\")) > 3 or len(location.split(\",\")) == 1:\n",
    "        print(location)\n",
    "        return None\n",
    "    return \"marker\""
   ]
  },
  {
   "cell_type": "code",
   "execution_count": null,
   "id": "2a628ce2-9cd8-4db2-9b26-b8ddc43a9be5",
   "metadata": {},
   "outputs": [],
   "source": [
    "df['n_locations'] = df['Location'].apply(get_n_locations)"
   ]
  },
  {
   "cell_type": "code",
   "execution_count": null,
   "id": "f1861732-da6a-4681-970e-f72a0b8e95cb",
   "metadata": {},
   "outputs": [],
   "source": [
    "df"
   ]
  },
  {
   "cell_type": "code",
   "execution_count": null,
   "id": "b9b72122-bd99-413a-8141-9619cfa18f28",
   "metadata": {},
   "outputs": [],
   "source": [
    "df.loc[df['n_locations'].isnull()]"
   ]
  },
  {
   "cell_type": "code",
   "execution_count": null,
   "id": "585657d5-7ab6-4dc8-9047-44c5603e1c60",
   "metadata": {},
   "outputs": [],
   "source": [
    "df.dropna(how=\"any\", inplace=True)\n",
    "df.reset_index(inplace=True)\n",
    "del df['index']\n",
    "del df['n_locations']"
   ]
  },
  {
   "cell_type": "code",
   "execution_count": null,
   "id": "b547d243-2230-47ab-a6e2-8200174d60a5",
   "metadata": {},
   "outputs": [],
   "source": [
    "df.loc[df['Location'].str.contains(\"[0-9]\", regex=True)]"
   ]
  },
  {
   "cell_type": "code",
   "execution_count": null,
   "id": "d4a95638-a707-49c8-a562-df0d65889097",
   "metadata": {},
   "outputs": [],
   "source": [
    "def get_city(location):\n",
    "    return location.split(\",\")[0]"
   ]
  },
  {
   "cell_type": "code",
   "execution_count": null,
   "id": "ac2fa45f-fb86-40ae-8b66-f0028ecb9e1c",
   "metadata": {},
   "outputs": [],
   "source": [
    "\"Zagreb\" in df['Location'].apply(get_city).tolist()"
   ]
  },
  {
   "cell_type": "code",
   "execution_count": null,
   "id": "728bc20c-2b16-4a8c-82b3-979ab071a42d",
   "metadata": {},
   "outputs": [],
   "source": [
    "df['City'] = df['Location'].apply(get_city)\n",
    "df"
   ]
  },
  {
   "cell_type": "code",
   "execution_count": null,
   "id": "216feb6b-c742-444e-b117-85d99601fda3",
   "metadata": {},
   "outputs": [],
   "source": [
    "def get_state(location):\n",
    "    if len(location.split(\",\")) == 2:\n",
    "        return None\n",
    "    else:\n",
    "        return location.split(\",\")[1].replace(\"\\n\", \" \").strip()\n",
    "\n",
    "\n",
    "def get_country(location):\n",
    "    if len(location.split(\",\")) == 2:\n",
    "        country = location.split(\",\")[1]\n",
    "        return re.sub(r'[0-9]+', '', country).replace(\"\\n\", \" \").strip()\n",
    "    else:\n",
    "        country = location.split(\",\")[2]\n",
    "        return re.sub(r'[0-9]+', '', country).replace(\"\\n\", \" \").strip()"
   ]
  },
  {
   "cell_type": "code",
   "execution_count": null,
   "id": "9135789c-55ad-4fc8-b408-755c328af88e",
   "metadata": {},
   "outputs": [],
   "source": [
    "#set(df['Location'].apply(get_state).tolist())"
   ]
  },
  {
   "cell_type": "code",
   "execution_count": null,
   "id": "b7f9d7c3-c915-452d-a591-deb26587365d",
   "metadata": {},
   "outputs": [],
   "source": [
    "#set(df['Location'].apply(get_country).tolist())"
   ]
  },
  {
   "cell_type": "code",
   "execution_count": null,
   "id": "58e9132b-d844-40a5-a080-d481ef8b07b0",
   "metadata": {},
   "outputs": [],
   "source": [
    "df['State'] = df['Location'].apply(get_state)"
   ]
  },
  {
   "cell_type": "code",
   "execution_count": null,
   "id": "38baadeb-9eb5-4e79-9956-08099911edca",
   "metadata": {},
   "outputs": [],
   "source": [
    "df['Country'] = df['Location'].apply(get_country)"
   ]
  },
  {
   "cell_type": "code",
   "execution_count": null,
   "id": "bdc06dbd-41aa-42bf-885f-c4a063aa1e48",
   "metadata": {},
   "outputs": [],
   "source": [
    "df"
   ]
  },
  {
   "cell_type": "code",
   "execution_count": null,
   "id": "c30828a0-470e-4d3c-b05b-fcd9160bf1a4",
   "metadata": {},
   "outputs": [],
   "source": [
    "len(df['State'].unique())"
   ]
  },
  {
   "cell_type": "code",
   "execution_count": null,
   "id": "4f43cdf6-77e2-42e6-bbb8-7fe8ef7f3732",
   "metadata": {},
   "outputs": [],
   "source": [
    "len(df['Country'].unique())"
   ]
  },
  {
   "cell_type": "code",
   "execution_count": null,
   "id": "77edb0d3-6c48-48d8-9218-b5322944d30a",
   "metadata": {},
   "outputs": [],
   "source": [
    "len(df['City'].unique())"
   ]
  },
  {
   "cell_type": "code",
   "execution_count": null,
   "id": "f0ea191d-d094-42de-b643-8e35abd71528",
   "metadata": {},
   "outputs": [],
   "source": [
    "df.isnull().sum()"
   ]
  },
  {
   "cell_type": "code",
   "execution_count": null,
   "id": "f7fb0cb8-23c7-4ed5-a62f-af596cec870c",
   "metadata": {},
   "outputs": [],
   "source": [
    "def is_valid_IATA(iata):\n",
    "    if re.search(\"[A-Z]{3}\", iata):\n",
    "        return True\n",
    "    else:\n",
    "        return False"
   ]
  },
  {
   "cell_type": "code",
   "execution_count": null,
   "id": "3cc7d3c0-56d5-46c1-8ec3-eb4488c4d380",
   "metadata": {},
   "outputs": [],
   "source": [
    "set(df['IATA'].apply(is_valid_IATA))"
   ]
  },
  {
   "cell_type": "code",
   "execution_count": null,
   "id": "e8b6a9ae-e3f8-4fd7-a5a4-a916447dd41b",
   "metadata": {},
   "outputs": [],
   "source": [
    "del df['Location']"
   ]
  },
  {
   "cell_type": "code",
   "execution_count": null,
   "id": "a85cc1c4-e415-4e69-a475-e08c12c06b70",
   "metadata": {},
   "outputs": [],
   "source": [
    "df.head()"
   ]
  },
  {
   "cell_type": "code",
   "execution_count": null,
   "id": "f1e082d4-0039-4ded-92c0-6d5a46627649",
   "metadata": {},
   "outputs": [],
   "source": []
  },
  {
   "cell_type": "code",
   "execution_count": null,
   "id": "87d90eea-c413-4eb0-ae1b-7892659339a1",
   "metadata": {},
   "outputs": [],
   "source": []
  },
  {
   "cell_type": "code",
   "execution_count": null,
   "id": "c2683e54-1386-4ad7-91ab-11cb20987894",
   "metadata": {},
   "outputs": [],
   "source": [
    "def get_alpha_2(c):\n",
    "    if pycountry.countries.get(name=c):\n",
    "        return pycountry.countries.get(name=c).alpha_2\n",
    "    if pycountry.countries.get(official_name=c):\n",
    "        return pycountry.countries.get(official_name=c).alpha_2\n",
    "    return None"
   ]
  },
  {
   "cell_type": "code",
   "execution_count": null,
   "id": "bcb52b3b-c90f-4ee5-89e4-69df1425878f",
   "metadata": {},
   "outputs": [],
   "source": [
    "df['Country_alpha_2'] = df['Country'].apply(get_alpha_2)"
   ]
  },
  {
   "cell_type": "code",
   "execution_count": null,
   "id": "d348e465-dd87-4cef-b5d6-ce3b6cf64263",
   "metadata": {},
   "outputs": [],
   "source": [
    "df"
   ]
  },
  {
   "cell_type": "code",
   "execution_count": null,
   "id": "98b7de30-e574-4abe-88e7-bebaffda134f",
   "metadata": {},
   "outputs": [],
   "source": [
    "def get_alpha_3(c):\n",
    "    if pycountry.countries.get(name=c):\n",
    "        return pycountry.countries.get(name=c).alpha_3\n",
    "    if pycountry.countries.get(official_name=c):\n",
    "        return pycountry.countries.get(official_name=c).alpha_3\n",
    "    return None"
   ]
  },
  {
   "cell_type": "code",
   "execution_count": null,
   "id": "4a4fff12-e0ed-4004-aab8-a8b12acacda4",
   "metadata": {},
   "outputs": [],
   "source": [
    "df['Country_alpha_3'] = df['Country'].apply(get_alpha_3)"
   ]
  },
  {
   "cell_type": "code",
   "execution_count": null,
   "id": "2fa6f655-185e-4d9b-8df9-5c76f1dc0a0d",
   "metadata": {},
   "outputs": [],
   "source": [
    "df"
   ]
  },
  {
   "cell_type": "code",
   "execution_count": null,
   "id": "3b29f11b-c9b6-4f2d-936c-c71bbe8bffb1",
   "metadata": {},
   "outputs": [],
   "source": [
    "df.loc[(df['Country_alpha_3'].isnull()) | (df['Country_alpha_2'].isnull())]"
   ]
  },
  {
   "cell_type": "code",
   "execution_count": null,
   "id": "8c4cfe27-2337-4165-877f-35076f9eb36d",
   "metadata": {},
   "outputs": [],
   "source": [
    "len(df)"
   ]
  },
  {
   "cell_type": "code",
   "execution_count": null,
   "id": "21e8d120-9c0e-4487-9d63-97fa43a0bb36",
   "metadata": {},
   "outputs": [],
   "source": [
    "set(df.loc[(df['Country_alpha_3'].isnull()) | (df['Country_alpha_2'].isnull())]['Country'])"
   ]
  },
  {
   "cell_type": "code",
   "execution_count": null,
   "id": "cf3f1152-fe8f-4a7f-b506-36e362fe38f7",
   "metadata": {},
   "outputs": [],
   "source": []
  },
  {
   "cell_type": "code",
   "execution_count": null,
   "id": "b9988c8f-9b53-452d-b369-90c68e9ed9a7",
   "metadata": {},
   "outputs": [],
   "source": []
  },
  {
   "cell_type": "code",
   "execution_count": null,
   "id": "27c1e697-6afd-46ab-8b32-aabdba954205",
   "metadata": {},
   "outputs": [],
   "source": [
    "df['lat'] = None\n",
    "df['lng'] = None"
   ]
  },
  {
   "cell_type": "code",
   "execution_count": null,
   "id": "e8379488-fac2-44b2-8838-95d0856ade0a",
   "metadata": {},
   "outputs": [],
   "source": [
    "df.columns"
   ]
  },
  {
   "cell_type": "code",
   "execution_count": null,
   "id": "3cac2462-5fb7-4394-8ec8-03612dcbd529",
   "metadata": {},
   "outputs": [],
   "source": [
    "def get_coordinates(rowitem, df):\n",
    "    sep = \", \"\n",
    "    airport = sep.join([rowitem[1]['Airport_name'], rowitem[1]['City'], rowitem[1]['Country']] )\n",
    "    #print(airport)\n",
    "    g = geocoder.osm(rowitem[1]['IATA']) \n",
    "    if g:\n",
    "        df.iloc[rowitem[0]]['lat'] = g.json['lat']\n",
    "        df.iloc[rowitem[0]]['lng'] = g.json['lng']\n",
    "        return\n",
    "    g = geocoder.osm(rowitem[1]['Airport_name'])\n",
    "    if g:\n",
    "        df.iloc[rowitem[0]]['lat'] = g.json['lat']\n",
    "        df.iloc[rowitem[0]]['lng'] = g.json['lng']\n",
    "        return\n",
    "    #g = geocoder.osm( sep.join([ rowitem[1]['Airport_name'], rowitem[1]['Country'] ])  )\n",
    "    #if g:\n",
    "    global c\n",
    "    global unresolved\n",
    "    unresolved.append(airport)\n",
    "    c += 1\n",
    "    print(\"None\", c, airport)\n",
    "    return None"
   ]
  },
  {
   "cell_type": "code",
   "execution_count": null,
   "id": "50ed5566-02f3-4411-ae00-ed829911a98a",
   "metadata": {},
   "outputs": [],
   "source": [
    "c = 0\n",
    "unresolved = list()\n",
    "for item in df.iterrows():\n",
    "    get_coordinates(item, df)"
   ]
  },
  {
   "cell_type": "code",
   "execution_count": null,
   "id": "a3609aa9-aaac-4a39-9ef8-018bf4f68308",
   "metadata": {},
   "outputs": [],
   "source": [
    "len(unresolved)"
   ]
  },
  {
   "cell_type": "code",
   "execution_count": null,
   "id": "0148b0a6-1b4b-47a3-8bd0-11677de8b6f4",
   "metadata": {},
   "outputs": [],
   "source": [
    "unresolved"
   ]
  },
  {
   "cell_type": "code",
   "execution_count": null,
   "id": "5a440b76-bd19-45bd-bfdb-afd5955aaf3f",
   "metadata": {},
   "outputs": [],
   "source": [
    "df"
   ]
  },
  {
   "cell_type": "code",
   "execution_count": null,
   "id": "c5493671-1530-46c0-875a-b65a828b2445",
   "metadata": {},
   "outputs": [],
   "source": []
  },
  {
   "cell_type": "code",
   "execution_count": null,
   "id": "34e2522b-6ad1-40b2-b66d-6d962c341540",
   "metadata": {},
   "outputs": [],
   "source": [
    "df.loc[ (df['lat'].isnull()) | (df['lng'].isnull()) ]"
   ]
  },
  {
   "cell_type": "code",
   "execution_count": null,
   "id": "a4f583cf-1ea2-42fa-ae4f-437cd052e6d6",
   "metadata": {},
   "outputs": [],
   "source": [
    "df.to_csv('IATA-complete.csv', header=True, index=False)"
   ]
  }
 ],
 "metadata": {
  "kernelspec": {
   "display_name": "Python 3",
   "language": "python",
   "name": "python3"
  },
  "language_info": {
   "codemirror_mode": {
    "name": "ipython",
    "version": 3
   },
   "file_extension": ".py",
   "mimetype": "text/x-python",
   "name": "python",
   "nbconvert_exporter": "python",
   "pygments_lexer": "ipython3",
   "version": "3.9.5"
  }
 },
 "nbformat": 4,
 "nbformat_minor": 5
}
